{
 "cells": [
  {
   "cell_type": "markdown",
   "metadata": {},
   "source": [
    "# reptile score testing"
   ]
  },
  {
   "cell_type": "code",
   "execution_count": 1,
   "metadata": {},
   "outputs": [],
   "source": [
    "import pandas as pd\n",
    "import numpy as np"
   ]
  },
  {
   "cell_type": "code",
   "execution_count": 6,
   "metadata": {},
   "outputs": [],
   "source": [
    "bed = pd.read_csv('/cndd/kkolodzi/REPTILE/MOp/results2.5/clust9_pred.DMR.bed',sep= '\\t', names=['chr','start','end','dmr','score'])"
   ]
  },
  {
   "cell_type": "code",
   "execution_count": 7,
   "metadata": {
    "scrolled": true
   },
   "outputs": [
    {
     "data": {
      "text/html": [
       "<div>\n",
       "<style>\n",
       "    .dataframe thead tr:only-child th {\n",
       "        text-align: right;\n",
       "    }\n",
       "\n",
       "    .dataframe thead th {\n",
       "        text-align: left;\n",
       "    }\n",
       "\n",
       "    .dataframe tbody tr th {\n",
       "        vertical-align: top;\n",
       "    }\n",
       "</style>\n",
       "<table border=\"1\" class=\"dataframe\">\n",
       "  <thead>\n",
       "    <tr style=\"text-align: right;\">\n",
       "      <th></th>\n",
       "      <th>chr</th>\n",
       "      <th>start</th>\n",
       "      <th>end</th>\n",
       "      <th>dmr</th>\n",
       "      <th>score</th>\n",
       "    </tr>\n",
       "  </thead>\n",
       "  <tbody>\n",
       "    <tr>\n",
       "      <th>0</th>\n",
       "      <td>chr1</td>\n",
       "      <td>3044312</td>\n",
       "      <td>3044403</td>\n",
       "      <td>dmr_1</td>\n",
       "      <td>0.0000</td>\n",
       "    </tr>\n",
       "    <tr>\n",
       "      <th>1</th>\n",
       "      <td>chr1</td>\n",
       "      <td>3113716</td>\n",
       "      <td>3114036</td>\n",
       "      <td>dmr_2</td>\n",
       "      <td>0.1830</td>\n",
       "    </tr>\n",
       "    <tr>\n",
       "      <th>2</th>\n",
       "      <td>chr1</td>\n",
       "      <td>3118805</td>\n",
       "      <td>3118936</td>\n",
       "      <td>dmr_3</td>\n",
       "      <td>0.0325</td>\n",
       "    </tr>\n",
       "    <tr>\n",
       "      <th>3</th>\n",
       "      <td>chr1</td>\n",
       "      <td>3181266</td>\n",
       "      <td>3181275</td>\n",
       "      <td>dmr_4</td>\n",
       "      <td>0.2830</td>\n",
       "    </tr>\n",
       "    <tr>\n",
       "      <th>4</th>\n",
       "      <td>chr1</td>\n",
       "      <td>3211016</td>\n",
       "      <td>3211291</td>\n",
       "      <td>dmr_5</td>\n",
       "      <td>0.2530</td>\n",
       "    </tr>\n",
       "  </tbody>\n",
       "</table>\n",
       "</div>"
      ],
      "text/plain": [
       "    chr    start      end    dmr   score\n",
       "0  chr1  3044312  3044403  dmr_1  0.0000\n",
       "1  chr1  3113716  3114036  dmr_2  0.1830\n",
       "2  chr1  3118805  3118936  dmr_3  0.0325\n",
       "3  chr1  3181266  3181275  dmr_4  0.2830\n",
       "4  chr1  3211016  3211291  dmr_5  0.2530"
      ]
     },
     "execution_count": 7,
     "metadata": {},
     "output_type": "execute_result"
    }
   ],
   "source": [
    "bed.head()"
   ]
  },
  {
   "cell_type": "code",
   "execution_count": 13,
   "metadata": {},
   "outputs": [
    {
     "data": {
      "text/html": [
       "<div>\n",
       "<style>\n",
       "    .dataframe thead tr:only-child th {\n",
       "        text-align: right;\n",
       "    }\n",
       "\n",
       "    .dataframe thead th {\n",
       "        text-align: left;\n",
       "    }\n",
       "\n",
       "    .dataframe tbody tr th {\n",
       "        vertical-align: top;\n",
       "    }\n",
       "</style>\n",
       "<table border=\"1\" class=\"dataframe\">\n",
       "  <thead>\n",
       "    <tr style=\"text-align: right;\">\n",
       "      <th></th>\n",
       "      <th>chr</th>\n",
       "      <th>start</th>\n",
       "      <th>end</th>\n",
       "      <th>dmr</th>\n",
       "      <th>score</th>\n",
       "    </tr>\n",
       "  </thead>\n",
       "  <tbody>\n",
       "    <tr>\n",
       "      <th>26369</th>\n",
       "      <td>chr1</td>\n",
       "      <td>165075549</td>\n",
       "      <td>165075565</td>\n",
       "      <td>dmr_26370</td>\n",
       "      <td>0.6320</td>\n",
       "    </tr>\n",
       "    <tr>\n",
       "      <th>309446</th>\n",
       "      <td>chr4</td>\n",
       "      <td>97635376</td>\n",
       "      <td>97635464</td>\n",
       "      <td>dmr_309447</td>\n",
       "      <td>0.6280</td>\n",
       "    </tr>\n",
       "    <tr>\n",
       "      <th>460415</th>\n",
       "      <td>chrX</td>\n",
       "      <td>136995004</td>\n",
       "      <td>136995202</td>\n",
       "      <td>dmr_460416</td>\n",
       "      <td>0.6000</td>\n",
       "    </tr>\n",
       "    <tr>\n",
       "      <th>115701</th>\n",
       "      <td>chr13</td>\n",
       "      <td>49145108</td>\n",
       "      <td>49145782</td>\n",
       "      <td>dmr_115702</td>\n",
       "      <td>0.5945</td>\n",
       "    </tr>\n",
       "    <tr>\n",
       "      <th>322663</th>\n",
       "      <td>chr4</td>\n",
       "      <td>149989331</td>\n",
       "      <td>149989521</td>\n",
       "      <td>dmr_322664</td>\n",
       "      <td>0.5935</td>\n",
       "    </tr>\n",
       "  </tbody>\n",
       "</table>\n",
       "</div>"
      ],
      "text/plain": [
       "          chr      start        end         dmr   score\n",
       "26369    chr1  165075549  165075565   dmr_26370  0.6320\n",
       "309446   chr4   97635376   97635464  dmr_309447  0.6280\n",
       "460415   chrX  136995004  136995202  dmr_460416  0.6000\n",
       "115701  chr13   49145108   49145782  dmr_115702  0.5945\n",
       "322663   chr4  149989331  149989521  dmr_322664  0.5935"
      ]
     },
     "execution_count": 13,
     "metadata": {},
     "output_type": "execute_result"
    }
   ],
   "source": [
    "bed.sort_values('score', ascending=False).head()"
   ]
  },
  {
   "cell_type": "code",
   "execution_count": 8,
   "metadata": {},
   "outputs": [],
   "source": [
    "import matplotlib.pyplot as plt"
   ]
  },
  {
   "cell_type": "code",
   "execution_count": 14,
   "metadata": {},
   "outputs": [
    {
     "data": {
      "text/plain": [
       "(array([2.57944e+05, 2.92110e+04, 5.36490e+04, 6.25310e+04, 3.48170e+04,\n",
       "        1.02460e+04, 7.12700e+03, 4.85300e+03, 1.13400e+03, 3.30000e+01]),\n",
       " array([0.   , 0.065, 0.13 , 0.195, 0.26 , 0.325, 0.39 , 0.455, 0.52 ,\n",
       "        0.585, 0.65 ]),\n",
       " <a list of 10 Patch objects>)"
      ]
     },
     "execution_count": 14,
     "metadata": {},
     "output_type": "execute_result"
    },
    {
     "data": {
      "image/png": "[encoded data removed]",
      "text/plain": [
       "<matplotlib.figure.Figure at 0x7f64e5379630>"
      ]
     },
     "metadata": {},
     "output_type": "display_data"
    }
   ],
   "source": [
    "plt.hist(bed['score'],bins = 10, range=[0,.65])"
   ]
  },
  {
   "cell_type": "code",
   "execution_count": null,
   "metadata": {},
   "outputs": [],
   "source": []
  }
 ],
 "metadata": {
  "kernelspec": {
   "display_name": "Python 3",
   "language": "python",
   "name": "python3"
  },
  "language_info": {
   "codemirror_mode": {
    "name": "ipython",
    "version": 3
   },
   "file_extension": ".py",
   "mimetype": "text/x-python",
   "name": "python",
   "nbconvert_exporter": "python",
   "pygments_lexer": "ipython3",
   "version": "3.6.4"
  }
 },
 "nbformat": 4,
 "nbformat_minor": 2
}
