{
 "cells": [
  {
   "cell_type": "markdown",
   "metadata": {
    "heading_collapsed": true
   },
   "source": [
    "# reptile score testing"
   ]
  },
  {
   "cell_type": "code",
   "execution_count": 1,
   "metadata": {
    "hidden": true
   },
   "outputs": [],
   "source": [
    "import pandas as pd\n",
    "import numpy as np"
   ]
  },
  {
   "cell_type": "code",
   "execution_count": 4,
   "metadata": {
    "hidden": true
   },
   "outputs": [],
   "source": [
    "bed = pd.read_csv('/cndd/kkolodzi/REPTILE/MOp/results/clust10_pred.DMR.bed',sep= '\\t', names=['chr','start','end','dmr','score'])"
   ]
  },
  {
   "cell_type": "code",
   "execution_count": 5,
   "metadata": {
    "hidden": true,
    "scrolled": true
   },
   "outputs": [
    {
     "data": {
      "text/html": [
       "<div>\n",
       "<style>\n",
       "    .dataframe thead tr:only-child th {\n",
       "        text-align: right;\n",
       "    }\n",
       "\n",
       "    .dataframe thead th {\n",
       "        text-align: left;\n",
       "    }\n",
       "\n",
       "    .dataframe tbody tr th {\n",
       "        vertical-align: top;\n",
       "    }\n",
       "</style>\n",
       "<table border=\"1\" class=\"dataframe\">\n",
       "  <thead>\n",
       "    <tr style=\"text-align: right;\">\n",
       "      <th></th>\n",
       "      <th>chr</th>\n",
       "      <th>start</th>\n",
       "      <th>end</th>\n",
       "      <th>dmr</th>\n",
       "      <th>score</th>\n",
       "    </tr>\n",
       "  </thead>\n",
       "  <tbody>\n",
       "    <tr>\n",
       "      <th>0</th>\n",
       "      <td>chr1</td>\n",
       "      <td>3003721</td>\n",
       "      <td>3003722</td>\n",
       "      <td>dmr_1</td>\n",
       "      <td>0.0</td>\n",
       "    </tr>\n",
       "    <tr>\n",
       "      <th>1</th>\n",
       "      <td>chr1</td>\n",
       "      <td>3007682</td>\n",
       "      <td>3007683</td>\n",
       "      <td>dmr_2</td>\n",
       "      <td>0.0</td>\n",
       "    </tr>\n",
       "    <tr>\n",
       "      <th>2</th>\n",
       "      <td>chr1</td>\n",
       "      <td>3013472</td>\n",
       "      <td>3013473</td>\n",
       "      <td>dmr_3</td>\n",
       "      <td>0.0</td>\n",
       "    </tr>\n",
       "    <tr>\n",
       "      <th>3</th>\n",
       "      <td>chr1</td>\n",
       "      <td>3015846</td>\n",
       "      <td>3015847</td>\n",
       "      <td>dmr_4</td>\n",
       "      <td>0.0</td>\n",
       "    </tr>\n",
       "    <tr>\n",
       "      <th>4</th>\n",
       "      <td>chr1</td>\n",
       "      <td>3017623</td>\n",
       "      <td>3017624</td>\n",
       "      <td>dmr_5</td>\n",
       "      <td>0.0</td>\n",
       "    </tr>\n",
       "  </tbody>\n",
       "</table>\n",
       "</div>"
      ],
      "text/plain": [
       "    chr    start      end    dmr  score\n",
       "0  chr1  3003721  3003722  dmr_1    0.0\n",
       "1  chr1  3007682  3007683  dmr_2    0.0\n",
       "2  chr1  3013472  3013473  dmr_3    0.0\n",
       "3  chr1  3015846  3015847  dmr_4    0.0\n",
       "4  chr1  3017623  3017624  dmr_5    0.0"
      ]
     },
     "execution_count": 5,
     "metadata": {},
     "output_type": "execute_result"
    }
   ],
   "source": [
    "bed.head()"
   ]
  },
  {
   "cell_type": "code",
   "execution_count": 9,
   "metadata": {
    "hidden": true
   },
   "outputs": [],
   "source": [
    "import matplotlib.pyplot as plt"
   ]
  },
  {
   "cell_type": "code",
   "execution_count": 15,
   "metadata": {
    "hidden": true
   },
   "outputs": [
    {
     "data": {
      "text/plain": [
       "(array([859814.,  74128.,  35593.,  20719.,  24647.,  15005.,  14418.,\n",
       "         15360.,  13278.,  13062.,  13904.,  14750.,  18488.,  12069.,\n",
       "         14211.,  12396.,  12463.,   8474.,   8916.,   6253.,   5925.,\n",
       "          6828.,   5926.,   4694.,   5831.,   5572.,   5180.,   6328.,\n",
       "          6258.,   4418.,   4754.,   3608.,   4373.,   3158.,   2812.,\n",
       "          2270.,   1186.,   1385.,    979.,   1142.]),\n",
       " array([0.     , 0.00525, 0.0105 , 0.01575, 0.021  , 0.02625, 0.0315 ,\n",
       "        0.03675, 0.042  , 0.04725, 0.0525 , 0.05775, 0.063  , 0.06825,\n",
       "        0.0735 , 0.07875, 0.084  , 0.08925, 0.0945 , 0.09975, 0.105  ,\n",
       "        0.11025, 0.1155 , 0.12075, 0.126  , 0.13125, 0.1365 , 0.14175,\n",
       "        0.147  , 0.15225, 0.1575 , 0.16275, 0.168  , 0.17325, 0.1785 ,\n",
       "        0.18375, 0.189  , 0.19425, 0.1995 , 0.20475, 0.21   ]),\n",
       " <a list of 40 Patch objects>)"
      ]
     },
     "execution_count": 15,
     "metadata": {},
     "output_type": "execute_result"
    },
    {
     "data": {
      "image/png": "[encoded data removed]",
      "text/plain": [
       "<matplotlib.figure.Figure at 0x7f290e212a58>"
      ]
     },
     "metadata": {},
     "output_type": "display_data"
    }
   ],
   "source": [
    "plt.hist(bed['score'],bins = 40, range=[0,.21])"
   ]
  },
  {
   "cell_type": "code",
   "execution_count": null,
   "metadata": {
    "hidden": true
   },
   "outputs": [],
   "source": []
  }
 ],
 "metadata": {
  "kernelspec": {
   "display_name": "Python 3",
   "language": "python",
   "name": "python3"
  },
  "language_info": {
   "codemirror_mode": {
    "name": "ipython",
    "version": 3
   },
   "file_extension": ".py",
   "mimetype": "text/x-python",
   "name": "python",
   "nbconvert_exporter": "python",
   "pygments_lexer": "ipython3",
   "version": "3.6.4"
  }
 },
 "nbformat": 4,
 "nbformat_minor": 2
}
